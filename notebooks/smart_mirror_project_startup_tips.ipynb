{
  "cells": [
    {
      "cell_type": "markdown",
      "metadata": {},
      "source": [
        "# \ud83e\udde0 Smart Mirror Project \u2014 How to Continue in a New Chat\n"
      ]
    },
    {
      "cell_type": "markdown",
      "metadata": {},
      "source": [
        "## \u2705 Step 1: Share a Recap Message\n",
        "\n",
        "**Copy/paste this at the start of a new chat:**\n",
        "\n",
        "```\n",
        "Hi, I\u2019m continuing my Smart Mirror project on Raspberry Pi 5 using PyQt5, OpenCV, and Hailo-8.\n",
        "I\u2019ve already built HailoRT, cleaned my system, and I\u2019m ready to resume work on the GUI and face detection.\n",
        "My main launcher is:\n",
        "~/smart_mirror_project/pyqt_gui/Main_App_Launch.py\n",
        "```\n"
      ]
    },
    {
      "cell_type": "markdown",
      "metadata": {},
      "source": [
        "## \ud83d\udcce Step 2: (Optional) Share Your File Tree\n",
        "Run this and paste the output to help provide quick project structure context:\n",
        "\n",
        "```bash\n",
        "tree ~/smart_mirror_project -L 2\n",
        "```\n"
      ]
    },
    {
      "cell_type": "markdown",
      "metadata": {},
      "source": [
        "## \ud83e\uddfe Step 3: Mention What You're Working On\n",
        "Give a one-liner like:\n",
        "\n",
        "> I want to integrate face detection using pyhailort. I have the model at `/usr/share/hailo-models/yolov5s_personface_h8l.hef` and a symbolic link in my project.\n"
      ]
    },
    {
      "cell_type": "markdown",
      "metadata": {},
      "source": [
        "## \ud83d\udca1 Step 4: Save Key Code Snippets\n",
        "- Your `Main_App_Launch.py` top section (imports, paths)\n",
        "- Your `HailoFaceDetector` class init or usage\n",
        "\n",
        "Paste these into the new chat to jump right back into code support."
      ]
    },
    {
      "cell_type": "markdown",
      "metadata": {},
      "source": [
        "## \u2705 Tip\n",
        "You can also just say:\n",
        "\n",
        "> \u201cYou helped me earlier with this same project \u2014 can you reload that context?\u201d\n",
        "\n",
        "If needed, I\u2019ll ask for your files/folders and recreate the working memory."
      ]
    }
  ],
  "metadata": {
    "kernelspec": {
      "display_name": "Python 3",
      "language": "python",
      "name": "python3"
    },
    "language_info": {
      "name": "python",
      "version": "3.11"
    }
  },
  "nbformat": 4,
  "nbformat_minor": 5
}